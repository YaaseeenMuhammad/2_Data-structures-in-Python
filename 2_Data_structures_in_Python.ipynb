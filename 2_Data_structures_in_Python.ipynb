{
  "nbformat": 4,
  "nbformat_minor": 0,
  "metadata": {
    "colab": {
      "provenance": [],
      "collapsed_sections": [
        "Y8PIM_MQslbY",
        "DUXpIo8qqs2x",
        "GGbGoFfBsWDh",
        "VTqzLXKYtpTh"
      ]
    },
    "kernelspec": {
      "name": "python3",
      "display_name": "Python 3"
    },
    "language_info": {
      "name": "python"
    }
  },
  "cells": [
    {
      "cell_type": "markdown",
      "source": [
        "# 2_Data structures in Python"
      ],
      "metadata": {
        "id": "uC9PYdCorTpw"
      }
    },
    {
      "cell_type": "markdown",
      "source": [
        "# Topic: List\n",
        "\n",
        "Exercise\n",
        "\n",
        "Q1. Create a list of 5 random numbers and print the list.\n",
        "\n",
        "Q2. Insert 3 new values to the list and print the updated list.\n",
        "\n",
        "Q3. Try to use a for loop to print each element in the list.\n"
      ],
      "metadata": {
        "id": "Y8PIM_MQslbY"
      }
    },
    {
      "cell_type": "code",
      "source": [
        "#Creating the random numbers\n",
        "import random\n",
        "random_numbers = [random.randint(1,50) for i in range(5)]\n",
        "print(\"Original List:\", random_numbers)"
      ],
      "metadata": {
        "colab": {
          "base_uri": "https://localhost:8080/"
        },
        "id": "MyvMzcL8rkwu",
        "outputId": "f29bd778-3db7-469a-baeb-55a8cce3d243"
      },
      "execution_count": 11,
      "outputs": [
        {
          "output_type": "stream",
          "name": "stdout",
          "text": [
            "Original List: [14, 30, 41, 41, 24]\n"
          ]
        }
      ]
    },
    {
      "cell_type": "code",
      "source": [
        "#Insert 3 new values into the list\n",
        "random_numbers.append(66)\n",
        "random_numbers.append(76)\n",
        "random_numbers.append(25)\n",
        "print(\"Updated List:\", random_numbers)"
      ],
      "metadata": {
        "colab": {
          "base_uri": "https://localhost:8080/"
        },
        "id": "yJedYoFdoyGZ",
        "outputId": "26fb45c9-8fb4-4a16-ba31-ef35cf182493"
      },
      "execution_count": 12,
      "outputs": [
        {
          "output_type": "stream",
          "name": "stdout",
          "text": [
            "Updated List: [14, 30, 41, 41, 24, 66, 76, 25]\n"
          ]
        }
      ]
    },
    {
      "cell_type": "code",
      "source": [
        "#Using for loop to print each element of the list\n",
        "print(\"List elements:\")\n",
        "for i in random_numbers:print(i)"
      ],
      "metadata": {
        "colab": {
          "base_uri": "https://localhost:8080/"
        },
        "id": "GoeGS3xCpixR",
        "outputId": "00ddec7f-82d2-4261-a104-14258c96a59a"
      },
      "execution_count": 16,
      "outputs": [
        {
          "output_type": "stream",
          "name": "stdout",
          "text": [
            "List elements:\n",
            "14\n",
            "30\n",
            "41\n",
            "41\n",
            "24\n",
            "66\n",
            "76\n",
            "25\n"
          ]
        }
      ]
    },
    {
      "cell_type": "markdown",
      "source": [
        "# Topic: Dictionary\n",
        "\n",
        "Exercise\n",
        "\n",
        "Q1. Create a dictionary with keys 'name', 'age', and 'address' and values 'John', 25, and 'New York' respectively.\n",
        "\n",
        "Q2. Add a new key-value pair to the dictionary created in Q1 with key 'phone' and value '1234567890'.\n"
      ],
      "metadata": {
        "id": "DUXpIo8qqs2x"
      }
    },
    {
      "cell_type": "code",
      "source": [
        "#Creating a dictionary with specified key-value pairs\n",
        "person = {'name': 'John','age': 25,'address': 'New York'}\n",
        "print(\"Dictionary:\", person)"
      ],
      "metadata": {
        "colab": {
          "base_uri": "https://localhost:8080/"
        },
        "id": "4J33Zb3KrKEB",
        "outputId": "e7597435-f336-42a8-c6e3-91e2d902bcf1"
      },
      "execution_count": 19,
      "outputs": [
        {
          "output_type": "stream",
          "name": "stdout",
          "text": [
            "Dictionary: {'name': 'John', 'age': 25, 'address': 'New York'}\n"
          ]
        }
      ]
    },
    {
      "cell_type": "code",
      "source": [
        "#Adding a new key-value pair to the dictionary\n",
        "person['phone'] = '1234567890'\n",
        "print(\"Updated Dictionary:\", person)"
      ],
      "metadata": {
        "colab": {
          "base_uri": "https://localhost:8080/"
        },
        "id": "mS1MxFSar1jy",
        "outputId": "be35d210-7393-45a2-9fcc-67ce071477c1"
      },
      "execution_count": 21,
      "outputs": [
        {
          "output_type": "stream",
          "name": "stdout",
          "text": [
            "Updated Dictionary: {'name': 'John', 'age': 25, 'address': 'New York', 'phone': '1234567890'}\n"
          ]
        }
      ]
    },
    {
      "cell_type": "markdown",
      "source": [
        "# Topic: Set\n",
        "\n",
        "Exercise  \n",
        "\n",
        "Q1.Create a set with values 1, 2, 3, 4, and 5.\n",
        "\n",
        "Q2. Add the value 6 to the set created in Q1.\n",
        "\n",
        "Q3. Remove the value 3 from the set created in Q1.\n"
      ],
      "metadata": {
        "id": "GGbGoFfBsWDh"
      }
    },
    {
      "cell_type": "code",
      "source": [
        "#Creating a set with values 1,2,3,4 and\n",
        "NumSet = {1, 2, 3, 4, 5}\n",
        "print(\"Original Set:\", NumSet)"
      ],
      "metadata": {
        "colab": {
          "base_uri": "https://localhost:8080/"
        },
        "id": "HhEN-rPKs0T5",
        "outputId": "7300afdf-c6af-492d-d30b-47ba6415b545"
      },
      "execution_count": 22,
      "outputs": [
        {
          "output_type": "stream",
          "name": "stdout",
          "text": [
            "Original Set: {1, 2, 3, 4, 5}\n"
          ]
        }
      ]
    },
    {
      "cell_type": "code",
      "source": [
        "#Adding the value 6 to the set\n",
        "NumSet.add(6)\n",
        "print(\"Updated Set:\", NumSet)"
      ],
      "metadata": {
        "colab": {
          "base_uri": "https://localhost:8080/"
        },
        "id": "xnDPhC_ttMpx",
        "outputId": "b2caa4d5-da91-4500-a1ef-603a2fbdb627"
      },
      "execution_count": 23,
      "outputs": [
        {
          "output_type": "stream",
          "name": "stdout",
          "text": [
            "Updated Set: {1, 2, 3, 4, 5, 6}\n"
          ]
        }
      ]
    },
    {
      "cell_type": "code",
      "source": [
        "#Removing the value 6 to the set\n",
        "NumSet.remove(3)\n",
        "print(\"Updated Set:\", NumSet)"
      ],
      "metadata": {
        "colab": {
          "base_uri": "https://localhost:8080/"
        },
        "id": "bmjtZ62Mta2J",
        "outputId": "8448602d-91d7-4886-c094-5ef700cdc55f"
      },
      "execution_count": 25,
      "outputs": [
        {
          "output_type": "stream",
          "name": "stdout",
          "text": [
            "Updated Set: {1, 2, 4, 5, 6}\n"
          ]
        }
      ]
    },
    {
      "cell_type": "markdown",
      "source": [
        "# Topic:Tuple\n",
        "\n",
        "Exercise\n",
        "\n",
        "Q1. Create a tuple with values 1, 2, 3, and 4\n",
        "\n",
        "Q2. Print the length of the tuple created in Q1.\n"
      ],
      "metadata": {
        "id": "VTqzLXKYtpTh"
      }
    },
    {
      "cell_type": "code",
      "source": [
        "# Creating a tuple with values 1, 2, 3, and 4\n",
        "NumTuple = (1, 2, 3, 4)\n",
        "print(\"Tuple:\", NumTuple)"
      ],
      "metadata": {
        "colab": {
          "base_uri": "https://localhost:8080/"
        },
        "id": "7MPBXMK3uCSa",
        "outputId": "0355a530-6d81-4524-af47-82c0ac8aa2aa"
      },
      "execution_count": 26,
      "outputs": [
        {
          "output_type": "stream",
          "name": "stdout",
          "text": [
            "Tuple: (1, 2, 3, 4)\n"
          ]
        }
      ]
    },
    {
      "cell_type": "code",
      "source": [
        "print(\"The length of the Tuple is\", len(NumTuple))"
      ],
      "metadata": {
        "colab": {
          "base_uri": "https://localhost:8080/"
        },
        "id": "B5vEeKq5uOxx",
        "outputId": "9b450f20-ba74-4389-f31f-3c0b41e25ee4"
      },
      "execution_count": 31,
      "outputs": [
        {
          "output_type": "stream",
          "name": "stdout",
          "text": [
            "The length of the Tuple is 4\n"
          ]
        }
      ]
    }
  ]
}